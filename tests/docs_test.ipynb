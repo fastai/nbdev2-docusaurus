{
 "cells": [
  {
   "cell_type": "markdown",
   "id": "d3df6e7b",
   "metadata": {},
   "source": [
    "## a title"
   ]
  },
  {
   "cell_type": "markdown",
   "id": "7746fc7d",
   "metadata": {},
   "source": [
    "some md"
   ]
  },
  {
   "cell_type": "code",
   "execution_count": 2,
   "id": "65751e43",
   "metadata": {},
   "outputs": [],
   "source": [
    "#meta:show_steps=start,train\n",
    "import re"
   ]
  },
  {
   "cell_type": "code",
   "execution_count": 11,
   "id": "f791a06e",
   "metadata": {},
   "outputs": [
    {
     "name": "stdout",
     "output_type": "stream",
     "text": [
      "\u001b[94mhello\n"
     ]
    }
   ],
   "source": [
    "print('\\033[94mhello')"
   ]
  },
  {
   "cell_type": "code",
   "execution_count": 1,
   "id": "54fe0b87",
   "metadata": {},
   "outputs": [
    {
     "data": {
      "text/plain": [
       "2"
      ]
     },
     "execution_count": 1,
     "metadata": {},
     "output_type": "execute_result"
    }
   ],
   "source": [
    "1+1"
   ]
  },
  {
   "cell_type": "code",
   "execution_count": 1,
   "id": "fb865f17",
   "metadata": {},
   "outputs": [
    {
     "data": {
      "text/html": [
       "<div>\n",
       "<style scoped>\n",
       "    .dataframe tbody tr th:only-of-type {\n",
       "        vertical-align: middle;\n",
       "    }\n",
       "\n",
       "    .dataframe tbody tr th {\n",
       "        vertical-align: top;\n",
       "    }\n",
       "\n",
       "    .dataframe thead th {\n",
       "        text-align: right;\n",
       "    }\n",
       "</style>\n",
       "<table border=\"1\" class=\"dataframe\">\n",
       "  <thead>\n",
       "    <tr style=\"text-align: right;\">\n",
       "      <th></th>\n",
       "      <th>a</th>\n",
       "    </tr>\n",
       "  </thead>\n",
       "  <tbody>\n",
       "    <tr>\n",
       "      <th>0</th>\n",
       "      <td>1</td>\n",
       "    </tr>\n",
       "    <tr>\n",
       "      <th>1</th>\n",
       "      <td>2</td>\n",
       "    </tr>\n",
       "  </tbody>\n",
       "</table>\n",
       "</div>"
      ],
      "text/plain": [
       "   a\n",
       "0  1\n",
       "1  2"
      ]
     },
     "execution_count": 1,
     "metadata": {},
     "output_type": "execute_result"
    }
   ],
   "source": [
    "import pandas as pd\n",
    "pd.DataFrame(dict(a=[1,2]))"
   ]
  },
  {
   "cell_type": "code",
   "execution_count": 3,
   "id": "933fef8f",
   "metadata": {},
   "outputs": [
    {
     "data": {
      "image/png": "[encoded data removed]",
      "text/plain": [
       "<Figure size 144x72 with 1 Axes>"
      ]
     },
     "metadata": {
      "needs_background": "light"
     },
     "output_type": "display_data"
    }
   ],
   "source": [
    "#notest\n",
    "import matplotlib.pyplot as plt\n",
    "plt.figure(figsize=(2,1))\n",
    "plt.plot([1,2]);"
   ]
  },
  {
   "attachments": {
    "image-2.png": {
     "image/png": "[encoded data removed]"
    }
   },
   "cell_type": "markdown",
   "id": "5fd8b07a",
   "metadata": {},
   "source": [
    "My pic:\n",
    "![image-2.png](attachment:image-2.png)"
   ]
  },
  {
   "cell_type": "code",
   "execution_count": 3,
   "id": "60f64cb6",
   "metadata": {},
   "outputs": [
    {
     "name": "stdout",
     "output_type": "stream",
     "text": [
      "the output is removed, so you can only see the print statement.\n"
     ]
    }
   ],
   "source": [
    "#cell_meta:tag=remove_output\n",
    "print('the output is removed, so you can only see the print statement.')"
   ]
  },
  {
   "cell_type": "code",
   "execution_count": 4,
   "id": "048de0c4",
   "metadata": {},
   "outputs": [
    {
     "name": "stdout",
     "output_type": "stream",
     "text": [
      "hello, you cannot see the code that created me.\n"
     ]
    }
   ],
   "source": [
    "#cell_meta:tag=remove_input\n",
    "print('hello, you cannot see the code that created me.')"
   ]
  },
  {
   "cell_type": "code",
   "execution_count": 5,
   "id": "14481872",
   "metadata": {},
   "outputs": [
    {
     "name": "stdout",
     "output_type": "stream",
     "text": [
      "you will not be able to see this cell at all\n"
     ]
    }
   ],
   "source": [
    "#cell_meta:tag=remove_cell\n",
    "print('you will not be able to see this cell at all')"
   ]
  },
  {
   "cell_type": "code",
   "execution_count": 6,
   "id": "22b05a4e",
   "metadata": {},
   "outputs": [
    {
     "name": "stdout",
     "output_type": "stream",
     "text": [
      "you will not be able to see this cell at all either\n"
     ]
    }
   ],
   "source": [
    "#cell_meta:tags=remove_input,remove_output\n",
    "print('you will not be able to see this cell at all either')"
   ]
  },
  {
   "cell_type": "code",
   "execution_count": 7,
   "id": "b73a3841",
   "metadata": {},
   "outputs": [],
   "source": [
    "def show():\n",
    "    a = 2\n",
    "    b = 3 #meta_hide_line"
   ]
  },
  {
   "cell_type": "code",
   "execution_count": 8,
   "id": "27a4a82b",
   "metadata": {},
   "outputs": [
    {
     "name": "stdout",
     "output_type": "stream",
     "text": [
      "hi\n",
      "CPU times: user 112 µs, sys: 37 µs, total: 149 µs\n",
      "Wall time: 120 µs\n"
     ]
    }
   ],
   "source": [
    "%%time\n",
    "print('hi')"
   ]
  },
  {
   "cell_type": "code",
   "execution_count": 9,
   "id": "89fd5aca",
   "metadata": {},
   "outputs": [
    {
     "name": "stdout",
     "output_type": "stream",
     "text": [
      "hi\n"
     ]
    }
   ],
   "source": [
    "!echo hi"
   ]
  },
  {
   "cell_type": "code",
   "execution_count": 12,
   "id": "a43beab1",
   "metadata": {},
   "outputs": [],
   "source": [
    "def ShowDoc(a): ..."
   ]
  },
  {
   "cell_type": "code",
   "execution_count": 13,
   "id": "e2b02dc1",
   "metadata": {},
   "outputs": [],
   "source": [
    "ShowDoc(1)"
   ]
  },
  {
   "cell_type": "code",
   "execution_count": 5,
   "id": "be043747",
   "metadata": {},
   "outputs": [
    {
     "name": "stdout",
     "output_type": "stream",
     "text": [
      "A line\n",
      "Foobar baz FutureWarning blah\n",
      "zig zagMultiIndex zoom\n",
      "Another line.\n"
     ]
    }
   ],
   "source": [
    "#meta:filter_words=FutureWarning,MultiIndex\n",
    "print('\\n'.join(['A line', 'Foobar baz FutureWarning blah', 'zig zagMultiIndex zoom', 'Another line.']))"
   ]
  },
  {
   "cell_type": "markdown",
   "id": "e06ecf02",
   "metadata": {
    "tags": []
   },
   "source": [
    "# A heading to Hide -"
   ]
  },
  {
   "cell_type": "markdown",
   "id": "ee691141-b4d3-46ce-8a87-37e536276291",
   "metadata": {
    "tags": []
   },
   "source": [
    "## Another! Heading -"
   ]
  },
  {
   "cell_type": "markdown",
   "id": "03dfb7a0-bdc6-4d16-8b22-82495f7a302f",
   "metadata": {},
   "source": [
    "some words"
   ]
  },
  {
   "cell_type": "markdown",
   "id": "6788928c-3e21-4cbf-a44e-75fc2c71edfd",
   "metadata": {},
   "source": [
    "## Yet another heading to hide. -"
   ]
  },
  {
   "cell_type": "code",
   "execution_count": null,
   "id": "d1932539-714b-4aed-8594-c5fbcad1ca83",
   "metadata": {},
   "outputs": [],
   "source": []
  }
 ],
 "metadata": {
  "kernelspec": {
   "display_name": "Python 3 (ipykernel)",
   "language": "python",
   "name": "python3"
  },
  "language_info": {
   "codemirror_mode": {
    "name": "ipython",
    "version": 3
   },
   "file_extension": ".py",
   "mimetype": "text/x-python",
   "name": "python",
   "nbconvert_exporter": "python",
   "pygments_lexer": "ipython3",
   "version": "3.9.5"
  }
 },
 "nbformat": 4,
 "nbformat_minor": 5
}
