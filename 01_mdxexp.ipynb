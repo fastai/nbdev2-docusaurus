{
 "cells": [
  {
   "cell_type": "code",
   "execution_count": 1,
   "id": "79ed0425-068a-4e9e-8ccf-245039ae8698",
   "metadata": {},
   "outputs": [],
   "source": [
    "#default_exp mdxexp"
   ]
  },
  {
   "cell_type": "markdown",
   "id": "1a07b01c",
   "metadata": {},
   "source": [
    "# Docusaurus preprocessors for markdown export\n",
    "\n",
    "> Custom preprocessors that help convert notebook content into mdx"
   ]
  },
  {
   "cell_type": "code",
   "execution_count": 2,
   "id": "ec9908ec",
   "metadata": {},
   "outputs": [],
   "source": [
    "# export\n",
    "from fastcore.basics import *\n",
    "from pathlib import Path\n",
    "from nbdev2.docexp import preprocess_cell,_run_preprocessor,DocExporter,nb2md\n",
    "from nbdev2.convert import export_docs\n",
    "from html.parser import HTMLParser"
   ]
  },
  {
   "cell_type": "code",
   "execution_count": 3,
   "id": "e96e0515",
   "metadata": {},
   "outputs": [],
   "source": [
    "#hide\n",
    "__file__ = 'nbdev2_docusaurus/mdxexp.py'\n",
    "_test_file = 'tests/docs_test.ipynb'"
   ]
  },
  {
   "cell_type": "markdown",
   "id": "43d60ddb-f5b2-4421-85ab-44843b8f5b1e",
   "metadata": {},
   "source": [
    "This module defines [nbconvert.Custom Preprocessors](https://nbconvert.readthedocs.io/en/latest/nbconvert_library.html#Custom-Preprocessors) that facilitate transforming notebook content into MDX, which is a variation of markdown."
   ]
  },
  {
   "cell_type": "markdown",
   "id": "b4afbc09",
   "metadata": {},
   "source": [
    "## Escaping HTML"
   ]
  },
  {
   "cell_type": "code",
   "execution_count": 4,
   "id": "8e26a192",
   "metadata": {},
   "outputs": [],
   "source": [
    "#export\n",
    "class _HTMLdf(HTMLParser):\n",
    "    \"HTML Parser that finds a dataframe.\"\n",
    "    df,scoped = False,False\n",
    "    def handle_starttag(self, tag, attrs):\n",
    "        if tag == 'style' and 'scoped' in dict(attrs): self.scoped=True\n",
    "    def handle_data(self, data):\n",
    "        if '.dataframe' in data and self.scoped: self.df=True\n",
    "    def handle_endtag(self, tag):\n",
    "        if tag == 'style': self.scoped=False\n",
    "                \n",
    "    @classmethod\n",
    "    def search(cls, x):\n",
    "        parser = cls()\n",
    "        parser.feed(x)\n",
    "        return parser.df"
   ]
  },
  {
   "cell_type": "code",
   "execution_count": 5,
   "id": "f960fd73",
   "metadata": {},
   "outputs": [],
   "source": [
    "#export\n",
    "@preprocess_cell\n",
    "def HTMLEscape(cell):\n",
    "    \"Place HTML in a codeblock and surround it with a <HTMLOutputBlock> component.\"\n",
    "    if cell.cell_type !='code': return\n",
    "    for o in cell.outputs:\n",
    "        if nested_idx(o, 'data', 'text/html'):\n",
    "            cell.metadata.html_output = True\n",
    "            html = o['data']['text/html']\n",
    "            cell.metadata.html_center = not _HTMLdf.search(html)\n",
    "            o['data']['text/html'] = '```html\\n'+html.strip()+'\\n```'"
   ]
  },
  {
   "cell_type": "markdown",
   "id": "d940b37d-4049-4991-bacd-5b68ee1daa04",
   "metadata": {},
   "source": [
    "By default, HTML is incompatible with MDX.  We place HTML in a code block and wrap it with the a custom component so that the static site generator can render it."
   ]
  },
  {
   "cell_type": "code",
   "execution_count": 6,
   "id": "182973a4",
   "metadata": {},
   "outputs": [],
   "source": [
    "c, _ = _run_preprocessor([HTMLEscape], _test_file)\n",
    "assert '```html\\n<div>' in c and '</div>\\n```' in c"
   ]
  },
  {
   "cell_type": "markdown",
   "id": "95b6ea35",
   "metadata": {},
   "source": [
    "## Custom DocExporter"
   ]
  },
  {
   "cell_type": "code",
   "execution_count": 7,
   "id": "84a9bce9",
   "metadata": {},
   "outputs": [],
   "source": [
    "#export\n",
    "class MdxExporter(DocExporter):\n",
    "    \"An MDX exporter\"\n",
    "    tpl_path=(Path(__file__).parent/'tpl').resolve()\n",
    "    tpl_file='ob.md.j2'\n",
    "    @property\n",
    "    def pps(self): return super().pps + [HTMLEscape]"
   ]
  },
  {
   "cell_type": "code",
   "execution_count": 8,
   "id": "50227a8b",
   "metadata": {},
   "outputs": [],
   "source": [
    "# Test using nb2md\n",
    "\n",
    "_dest_file = Path(_test_file).with_suffix('.md')\n",
    "_dest_file.unlink(missing_ok=True)\n",
    "nb2md(_test_file, exp_cls=MdxExporter)\n",
    "assert _dest_file.exists(), f'{_dest_file} does not exist.'\n",
    "c = _dest_file.read_text()\n",
    "assert '<HTMLOutputBlock' in c and '</HTMLOutputBlock>' in c and 'center' not in c\n",
    "_dest_file.unlink(missing_ok=True)"
   ]
  },
  {
   "cell_type": "code",
   "execution_count": 10,
   "id": "0f0f1878",
   "metadata": {},
   "outputs": [
    {
     "name": "stdout",
     "output_type": "stream",
     "text": [
      "converting: tests/docs_test.ipynb\n"
     ]
    }
   ],
   "source": [
    "#Test using export_docs\n",
    "\n",
    "export_docs(_test_file, dest='tests')\n",
    "assert _dest_file.exists(), f'{_dest_file} does not exist.'\n",
    "c = _dest_file.read_text()\n",
    "assert '<HTMLOutputBlock' in c and '</HTMLOutputBlock>' in c and 'center' not in c\n",
    "_dest_file.unlink(missing_ok=True)"
   ]
  },
  {
   "cell_type": "markdown",
   "id": "6710f5c3",
   "metadata": {},
   "source": [
    "## Export -"
   ]
  },
  {
   "cell_type": "code",
   "execution_count": 39,
   "id": "73881100",
   "metadata": {},
   "outputs": [],
   "source": [
    "#skip\n",
    "from nbprocess.export import nbs_export\n",
    "nbs_export()"
   ]
  },
  {
   "cell_type": "code",
   "execution_count": null,
   "id": "403ca264",
   "metadata": {},
   "outputs": [],
   "source": []
  }
 ],
 "metadata": {
  "kernelspec": {
   "display_name": "Python 3 (ipykernel)",
   "language": "python",
   "name": "python3"
  },
  "language_info": {
   "codemirror_mode": {
    "name": "ipython",
    "version": 3
   },
   "file_extension": ".py",
   "mimetype": "text/x-python",
   "name": "python",
   "nbconvert_exporter": "python",
   "pygments_lexer": "ipython3",
   "version": "3.9.5"
  }
 },
 "nbformat": 4,
 "nbformat_minor": 5
}
